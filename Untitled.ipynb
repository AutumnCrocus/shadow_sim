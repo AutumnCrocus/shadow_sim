{
 "cells": [
  {
   "cell_type": "code",
<<<<<<< HEAD
=======
   "execution_count": 1,
   "metadata": {},
   "outputs": [
    {
     "name": "stdout",
     "output_type": "stream",
     "text": [
      "True\n",
      "player 1 's field\n",
      "0 :  name:Trinity Dragon            3/502/502 ability=['CANT_BE_ATTACKED']\u001b[0m\n",
      "1 :  name:Well of Destiny           cost: 2 \u001b[0m\n",
      "2 :  name:Fighter                   2/502/502\u001b[0m\n",
      "\n",
      "\n",
      "player 2 's field\n",
      "\n",
      "\n",
      "player 1 's field\n",
      "0 :  name:Trinity Dragon            3/498/498 ability=['CANT_BE_ATTACKED']\u001b[0m\n",
      "1 :  name:Well of Destiny           cost: 2 \u001b[0m\n",
      "2 :  name:Fighter                   2/506/506\u001b[0m\n",
      "\n",
      "\n",
      "player 2 's field\n",
      "\n",
      "\n"
     ]
    }
   ],
   "source": [
    "import Field_setting\n",
    "from card_setting import *\n",
    "from Player_setting import *\n",
    "field1 = Field_setting.Field(5)\n",
    "field2 = Field_setting.Field(5)\n",
    "#print(\"{}\".format(creature_list))\n",
    "card1 = Creature(30)\n",
    "card2 = Creature(30)\n",
    "card3 = Amulet(1)\n",
    "card4 = Amulet(1)\n",
    "card5 = Creature(2)\n",
    "card6 = Creature(2)\n",
    "player1 = Player(9,first=True)\n",
    "opponent1 = Player(9,first=False)\n",
    "player2 = Player(9,first=True)\n",
    "opponent2 = Player(9,first=False)\n",
    "field1.players=[player1,opponent1]\n",
    "field2.players=[player2,opponent2]\n",
    "print(card1.__eq__(card2))\n",
    "#print(\"{}\\n{}\".format(card1,card2))\n",
    "field1.set_card(card1, 0, virtual=False)\n",
    "field2.set_card(card2, 0, virtual=False)\n",
    "field1.set_card(card3, 0, virtual=False)\n",
    "field2.set_card(card4, 0, virtual=False)\n",
    "field1.set_card(card5, 0, virtual=False)\n",
    "field2.set_card(card6, 0, virtual=False)\n",
    "\n",
    "#card1.power+=1\n",
    "for i in range(1000):\n",
    "    field1.start_of_turn(0,virtual=True)\n",
    "    field2.start_of_turn(0,virtual=True)\n",
    "field1.show_field()\n",
    "field2.show_field()\n"
   ]
  },
  {
   "cell_type": "code",
   "execution_count": 22,
   "metadata": {},
   "outputs": [
    {
     "name": "stdout",
     "output_type": "stream",
     "text": [
      "type: <class 'card_setting.Creature'>,<class 'card_setting.Creature'>\n",
      "diff power\n"
     ]
    },
    {
     "data": {
      "text/plain": [
       "False"
      ]
     },
     "execution_count": 22,
     "metadata": {},
     "output_type": "execute_result"
    }
   ],
   "source": [
    "def __eq__(f1,f2):\n",
    "    if len(f1.card_location[0])!=len(f2.card_location[0]):return False\n",
    "    if len(f1.card_location[1])!=len(f2.card_location[1]):return False\n",
    "    #print(\"len:{},{}\".format(len(f1.card_location[0]),len(f1.card_location[1])))\n",
    "    for i in range(2):\n",
    "        for j in range(len(f1.card_location[i])):\n",
    "            first_card = f1.card_location[i][j]\n",
    "            second_card = f2.card_location[i][j]\n",
    "            print(\"type: {},{}\".format(type(first_card),type(second_card)))\n",
    "            if  not first_card==second_card:\n",
    "                return False\n",
    "    \n",
    "    return True\n",
    "__eq__(field1,field2)"
   ]
  },
  {
   "cell_type": "code",
   "execution_count": 33,
   "metadata": {},
   "outputs": [
    {
     "data": {
      "text/plain": [
       "[('Bob', 85), ('Alice', 65), ('Chris', 40)]"
      ]
     },
     "execution_count": 33,
     "metadata": {},
     "output_type": "execute_result"
    }
   ],
   "source": [
    "TEST = [(\"Alice\",65),(\"Bob\",85),(\"Chris\",40)]\n",
    "sorted(TEST,key= lambda element:-element[1])"
   ]
  },
  {
   "cell_type": "code",
   "execution_count": 34,
   "metadata": {},
   "outputs": [
    {
     "data": {
      "text/plain": [
       "[0, 1, 2, 4, 5, 6, 7, 8]"
      ]
     },
     "execution_count": 34,
     "metadata": {},
     "output_type": "execute_result"
    }
   ],
   "source": [
    "A=[0,1,2,3,4,5,6,7,8]\n",
    "A.pop(3)\n",
    "A"
   ]
  },
  {
   "cell_type": "code",
   "execution_count": 2,
   "metadata": {},
   "outputs": [
    {
     "data": {
      "text/plain": [
       "[<card_setting.Creature at 0x7f68d4ce4518>,\n",
       " <card_setting.Creature at 0x7f68d4ce4400>,\n",
       " <card_setting.Creature at 0x7f68d4ce4438>,\n",
       " <card_setting.Creature at 0x7f68d4ce4550>,\n",
       " <card_setting.Creature at 0x7f68d4ce4588>,\n",
       " <card_setting.Creature at 0x7f68d4ce46a0>,\n",
       " <card_setting.Creature at 0x7f68d4ce46d8>,\n",
       " <card_setting.Creature at 0x7f68d4ce4630>]"
      ]
     },
     "execution_count": 2,
     "metadata": {},
     "output_type": "execute_result"
    }
   ],
   "source": [
    "hand=[]\n",
    "for i in range(8):\n",
    "    if i%2==0:\n",
    "        new_follower=Creature(creature_name_to_id[\"Sahaquiel\"])\n",
    "        hand.append(new_follower)\n",
    "    else:\n",
    "        new_follower=Creature(creature_name_to_id[\"Goblin\"])\n",
    "        hand.append(new_follower)\n",
    "hand"
   ]
  },
  {
   "cell_type": "code",
   "execution_count": 3,
   "metadata": {},
   "outputs": [
    {
     "name": "stdout",
     "output_type": "stream",
     "text": [
      "Player 1 's hand\n",
      "====================================================================\n",
      "0 :  name:Sahaquiel                 7/4/4\u001b[0m\n",
      "1 :  name:Goblin                    1/1/2\u001b[0m\n",
      "2 :  name:Sahaquiel                 7/4/4\u001b[0m\n",
      "3 :  name:Goblin                    1/1/2\u001b[0m\n",
      "4 :  name:Sahaquiel                 7/4/4\u001b[0m\n",
      "5 :  name:Goblin                    1/1/2\u001b[0m\n",
      "6 :  name:Sahaquiel                 7/4/4\u001b[0m\n",
      "7 :  name:Goblin                    1/1/2\u001b[0m\n",
      "====================================================================\n",
      "\n",
      "\n",
      "{0: [0, 1, 2, 3, 4, 5, 6], 1: [], 2: [0, 1, 2, 3, 4, 5, 6], 3: [], 4: [0, 1, 2, 3, 4, 5, 6], 5: [], 6: [0, 1, 2, 3, 4, 5, 6], 7: []}\n"
     ]
    }
   ],
   "source": [
    "player = Player(9,first=True)\n",
    "opponent = Player(9,first=False)\n",
    "player.hand=hand\n",
    "f = Field_setting.Field(5)\n",
    "f.players=[player,opponent]\n",
    "player.show_hand()\n",
    "print(f.get_regal_target_dict(player,opponent))"
   ]
  },
  {
   "cell_type": "code",
   "execution_count": 5,
   "metadata": {},
   "outputs": [
    {
     "name": "stdout",
     "output_type": "stream",
     "text": [
      "Help on built-in function index:\n",
      "\n",
      "index(...) method of builtins.list instance\n",
      "    L.index(value, [start, [stop]]) -> integer -- return first index of value.\n",
      "    Raises ValueError if the value is not present.\n",
      "\n"
     ]
    }
   ],
   "source": [
    "help([].index)"
   ]
  },
  {
   "cell_type": "code",
   "execution_count": 10,
   "metadata": {},
   "outputs": [
    {
     "name": "stdin",
     "output_type": "stream",
     "text": [
      "input card_name:  Golyat\n"
     ]
    },
    {
     "name": "stdout",
     "output_type": "stream",
     "text": [
      "hit\n",
      "[4, 3, 4, [], [0, -1], 'Golyat']\n"
     ]
    }
   ],
   "source": [
    "card_name=input(\"input card_name: \")\n",
    "hit_flg=False\n",
    "for key in list(creature_list.keys()):\n",
    "    if creature_list[key][-1]==card_name:\n",
    "        print(\"hit\")\n",
    "        hit_flg=True\n",
    "        print(\"{}\".format(creature_list[key]))\n",
    "        break\n",
    "\n",
    "if not hit_flg:\n",
    "    print(\"{} is not found\".format(card_name))"
   ]
  },
  {
   "cell_type": "code",
   "execution_count": 2,
   "metadata": {},
   "outputs": [
    {
     "data": {
      "text/plain": [
       "'ABC'"
      ]
     },
     "execution_count": 2,
     "metadata": {},
     "output_type": "execute_result"
    }
   ],
   "source": [
    "txt=\"ABC_DEF\"\n",
    "txt.split(\"_\")[0]"
   ]
  },
  {
   "cell_type": "code",
   "execution_count": 43,
   "metadata": {},
   "outputs": [],
   "source": [
    "import networkx as nx\n",
    "g1 = nx.Graph()\n",
    "g2 = nx.DiGraph(g1)"
   ]
  },
  {
   "cell_type": "code",
   "execution_count": 7,
   "metadata": {},
   "outputs": [
    {
     "data": {
      "text/plain": [
       "<networkx.classes.graph.Graph at 0x7f9b6048a630>"
      ]
     },
     "execution_count": 7,
     "metadata": {},
     "output_type": "execute_result"
    }
   ],
   "source": [
    "g1"
   ]
  },
  {
   "cell_type": "code",
   "execution_count": 8,
   "metadata": {},
   "outputs": [],
   "source": []
  },
  {
   "cell_type": "code",
   "execution_count": 58,
   "metadata": {},
   "outputs": [
    {
     "data": {
      "image/png": "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\n",
      "text/plain": [
       "<Figure size 432x288 with 1 Axes>"
      ]
     },
     "metadata": {},
     "output_type": "display_data"
    }
   ],
   "source": [
    "import Field_setting\n",
    "field_dict={}\n",
    "for i in range(10):\n",
    "    field_dict[i]=Field_setting.Field(5)\n",
    "g2 = nx.DiGraph(g1)\n",
    "g2.add_edges_from([(0, 1, {'weight': 10}),\n",
    "                  (0, 2, {'weight': 15}),\n",
    "                  (0, 3, {'weight': 20})])\n",
    "\n",
    "nx.draw_networkx(g2)"
   ]
  },
  {
   "cell_type": "code",
   "execution_count": 38,
   "metadata": {},
   "outputs": [
    {
     "data": {
      "text/plain": [
       "{}"
      ]
     },
     "execution_count": 38,
     "metadata": {},
     "output_type": "execute_result"
    }
   ],
   "source": [
    "g2.nodes[2]"
   ]
  },
  {
   "cell_type": "code",
   "execution_count": 60,
   "metadata": {},
   "outputs": [
    {
     "data": {
      "text/plain": [
       "(3, 'C')"
      ]
     },
     "execution_count": 60,
     "metadata": {},
     "output_type": "execute_result"
    }
   ],
   "source": [
    "import random\n",
    "A = [(1,\"A\"),(2,\"B\"),(3,\"C\"),(4,\"D\"),(5,\"E\")]\n",
    "target = random.choices(A,k=2)\n",
    "target[1]"
   ]
  },
  {
   "cell_type": "code",
   "execution_count": 63,
   "metadata": {},
   "outputs": [
    {
     "data": {
      "text/plain": [
       "[(5, 'E'), (4, 'D')]"
      ]
     },
     "execution_count": 63,
     "metadata": {},
     "output_type": "execute_result"
    }
   ],
   "source": [
    "import heapq\n",
    "heapq.nlargest(2,A)"
   ]
  },
  {
   "cell_type": "code",
   "execution_count": 64,
   "metadata": {},
   "outputs": [
    {
     "data": {
      "text/plain": [
       "True"
      ]
     },
     "execution_count": 64,
     "metadata": {},
     "output_type": "execute_result"
    }
   ],
   "source": [
    "A=(1,2,3,4,5)\n",
    "A == (1,2,3,4,5)"
   ]
  },
  {
   "cell_type": "code",
   "execution_count": 66,
   "metadata": {},
   "outputs": [
    {
     "name": "stdout",
     "output_type": "stream",
     "text": [
      "[2, 5, 4, 9, 0]\n"
     ]
    }
   ],
   "source": [
    "import random\n",
    "L = list(range(10))\n",
    "L_2 = random.sample(L,k=5)\n",
    "print(L_2)"
   ]
  },
  {
   "cell_type": "code",
   "execution_count": 69,
   "metadata": {},
   "outputs": [
    {
     "data": {
      "text/plain": [
       "('A', 'B', 'C')"
      ]
     },
     "execution_count": 69,
     "metadata": {},
     "output_type": "execute_result"
    }
   ],
   "source": [
    "A={1:\"A\",2:\"B\",3:\"C\"}\n",
    "tuple(A.values())"
   ]
  },
  {
   "cell_type": "code",
   "execution_count": 101,
   "metadata": {},
   "outputs": [
    {
     "name": "stdout",
     "output_type": "stream",
     "text": [
      "========== ========== ==========\n",
      "#      1 # #      1 # #      1 #\n",
      "#        # #        # #        #\n",
      "#        # #        # #        #\n",
      "#        # #        # #        #\n",
      "# 1    2 # # 1    2 # # 1    2 #\n",
      "========== ========== ==========\n",
      "\n"
     ]
    }
   ],
   "source": [
    "top = \"=\"*10\n",
    "txt=top+\" \"+top+\" \"+top+\"\\n\"\n",
    "for i in range(5):\n",
    "    if i == 0:\n",
    "        cost=\"#\"+\" \"*6+\"{}\".format(1)+\" #\"\n",
    "        txt+= cost+\" \"+cost+\" \"+cost+\"\\n\"\n",
    "    elif i == 4:\n",
    "        stat = \"# \"+\"{}\".format(1)+\" \"*4+\"{}\".format(2)+\" #\"\n",
    "        txt+=stat+\" \"+stat+\" \"+stat+\"\\n\"\n",
    "    else:\n",
    "        middle = \"#\"+\" \"*8+\"#\"\n",
    "        txt+=middle+\" \" + middle + \" \" + middle +\"\\n\"\n",
    "txt+=top+\" \"+top+\" \"+top+\"\\n\"\n",
    "print(txt)\n"
   ]
  },
  {
   "cell_type": "code",
   "execution_count": null,
   "metadata": {},
   "outputs": [],
   "source": []
  },
  {
   "cell_type": "code",
>>>>>>> origin/master
   "execution_count": null,
   "metadata": {},
   "outputs": [],
   "source": []
  }
 ],
 "metadata": {
  "kernelspec": {
   "display_name": "Python 3",
   "language": "python",
   "name": "python3"
  },
  "language_info": {
   "codemirror_mode": {
    "name": "ipython",
    "version": 3
   },
   "file_extension": ".py",
   "mimetype": "text/x-python",
   "name": "python",
   "nbconvert_exporter": "python",
   "pygments_lexer": "ipython3",
<<<<<<< HEAD
   "version": "3.6.10"
=======
   "version": "3.6.7"
>>>>>>> origin/master
  }
 },
 "nbformat": 4,
 "nbformat_minor": 4
}
