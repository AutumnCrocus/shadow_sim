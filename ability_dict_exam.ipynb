{
 "cells": [
  {
   "cell_type": "code",
   "execution_count": 1,
   "metadata": {},
   "outputs": [],
   "source": [
    "from my_enum import *\n",
    "from card_setting import *\n",
    "import csv\n",
    "file_name=\"All_fanfare_list.tsv\"\n",
    "ability_dict=creature_fanfare_ability\n",
    "\n",
    "        "
   ]
  },
  {
   "cell_type": "code",
   "execution_count": 2,
   "metadata": {},
   "outputs": [],
   "source": [
    "def ability_dict_2_tsv(file_name,ability_dict,card_list=None):\n",
    "    with open(\"Card_List_TSV/\"+file_name,\"w\") as f:\n",
    "        writer = csv.writer(f,delimiter='\\t',lineterminator='\\n')\n",
    "        for key in list(ability_dict.keys()):\n",
    "            writer.writerow([card_list[key][-1],ability_dict[key]])\n",
    "#ability_dict_2_tsv(\"All_lastword_list.tsv\",creature_lastword_ability)"
   ]
  },
  {
   "cell_type": "code",
   "execution_count": 3,
   "metadata": {},
   "outputs": [],
   "source": [
    "from creature_ability_list import creature_ability_dict\n",
    "from spell_ability_list import spell_ability_dict\n",
    "from amulet_ability_list import amulet_ability_dict\n",
    "from cost_change_ability_list import cost_change_ability_dict\n",
    "from battle_ability_list import battle_ability_dict\n",
    "from trigger_ability_list import trigger_ability_dict\n",
    "import copy\n",
    "def tsv_2_ability_dict(file_name,name_to_id=None):\n",
    "    ability_dict={}\n",
    "    with open(\"Card_List_TSV/\"+file_name) as f:\n",
    "        reader = csv.reader(f,delimiter='\\t',lineterminator='\\n')\n",
    "        for row in reader:\n",
    "            ability_dict[name_to_id[row[0]]]=int(row[1])\n",
    "        \n",
    "    return ability_dict\n",
    "def append_new_data_2_ability_list_tsv(file_name,card_list,ability_dict,name_to_id=None):\n",
    "    assert name_to_id!=None\n",
    "    print(\"file_name:{}\".format(file_name))\n",
    "    new_ability_dict=tsv_2_ability_dict(file_name,name_to_id=name_to_id)\n",
    "    card_name=input(\"input card_name:\")\n",
    "    assert name_to_id[card_name] in card_list and name_to_id[card_name] not in new_ability_dict\n",
    "    ability_id=int(input(\"input ability_id:\"))\n",
    "    new_ability_dict[name_to_id[card_name]]=ability_id\n",
    "    print(\"{}:{}\".format(card_name,new_ability_dict[name_to_id[card_name]]))\n",
    "    ability_dict_2_tsv(file_name,new_ability_dict,card_list=card_list)\n",
    "\n",
    "\n",
    "def delete_data_in_ability_list_tsv(file_name,card_list,ability_dict,name_to_id=None):\n",
    "    new_ability_dict=tsv_2_ability_dict(file_name,name_to_id=name_to_id)\n",
    "    assert name_to_id!=None\n",
    "    card_name=input(\"input card_name:\")\n",
    "    assert creature_name_to_id[card_name] in card_list and name_to_id[card_name] in new_ability_dict\n",
    "    del new_ability_dict[name_to_id[card_name]]\n",
    "    ability_dict_2_tsv(file_name,new_ability_dict,card_list=card_list)\n",
    "    \n",
    "    \n",
    "    "
   ]
  },
  {
   "cell_type": "code",
   "execution_count": 4,
   "metadata": {},
   "outputs": [
    {
     "name": "stdin",
     "output_type": "stream",
     "text": [
      "input card_name: Unbridled Fury\n",
      "input ability_id: 40\n"
     ]
    },
    {
     "name": "stdout",
     "output_type": "stream",
     "text": [
      "Unbridled Fury:40\n"
     ]
    }
   ],
   "source": [
    "append_new_data_2_ability_list_tsv(\"All_spell_effect_list.tsv\",spell_list,spell_triggered_ability,name_to_id=spell_name_to_id)"
   ]
  },
  {
   "cell_type": "code",
   "execution_count": 15,
   "metadata": {},
   "outputs": [
    {
     "name": "stdout",
     "output_type": "stream",
     "text": [
      "file_name:All_fanfare_list.tsv\n"
     ]
    },
    {
     "name": "stdin",
     "output_type": "stream",
     "text": [
      "input card_name: Black Iron Soldier\n",
      "input ability_id: 103\n"
     ]
    },
    {
     "name": "stdout",
     "output_type": "stream",
     "text": [
      "Black Iron Soldier:103\n"
     ]
    }
   ],
   "source": [
    "append_new_data_2_ability_list_tsv(\"All_fanfare_list.tsv\",creature_list,creature_fanfare_ability,name_to_id=creature_name_to_id)\n",
    "#append_new_data_2_ability_list_tsv(\"All_fanfare_target_list.tsv\",creature_list,creature_has_target,name_to_id=creature_name_to_id)"
   ]
  },
  {
   "cell_type": "code",
   "execution_count": 10,
   "metadata": {},
   "outputs": [
    {
     "name": "stdout",
     "output_type": "stream",
     "text": [
      "file_name:All_fanfare_target_list.tsv\n"
     ]
    },
    {
     "name": "stdin",
     "output_type": "stream",
     "text": [
      "input card_name: Curate\n",
      "input ability_id: 10\n"
     ]
    },
    {
     "name": "stdout",
     "output_type": "stream",
     "text": [
      "Curate:10\n"
     ]
    }
   ],
   "source": [
    "append_new_data_2_ability_list_tsv(\"All_fanfare_target_list.tsv\",creature_list,creature_has_target,name_to_id=creature_name_to_id)"
   ]
  },
  {
   "cell_type": "code",
   "execution_count": 10,
   "metadata": {},
   "outputs": [
    {
     "name": "stdout",
     "output_type": "stream",
     "text": [
      "file_name:All_lastword_list.tsv\n"
     ]
    },
    {
     "name": "stdin",
     "output_type": "stream",
     "text": [
      "input card_name: Automaton Knight\n",
      "input ability_id: 101\n"
     ]
    },
    {
     "name": "stdout",
     "output_type": "stream",
     "text": [
      "Automaton Knight:101\n"
     ]
    }
   ],
   "source": [
    "append_new_data_2_ability_list_tsv(\"All_lastword_list.tsv\",creature_list,creature_lastword_ability,name_to_id=creature_name_to_id)"
   ]
  },
  {
   "cell_type": "code",
   "execution_count": 14,
   "metadata": {},
   "outputs": [
    {
     "name": "stdout",
     "output_type": "stream",
     "text": [
      "file_name:All_spell_effect_list.tsv\n"
     ]
    },
    {
     "name": "stdin",
     "output_type": "stream",
     "text": [
      "input card_name: Puppeteer's Strings\n",
      "input ability_id: 49\n"
     ]
    },
    {
     "name": "stdout",
     "output_type": "stream",
     "text": [
      "Puppeteer's Strings:49\n"
     ]
    }
   ],
   "source": [
    "\n",
    "append_new_data_2_ability_list_tsv(\"All_spell_effect_list.tsv\",spell_list,spell_triggered_ability,name_to_id=spell_name_to_id)"
   ]
  },
  {
   "cell_type": "code",
   "execution_count": 12,
   "metadata": {},
   "outputs": [
    {
     "name": "stdout",
     "output_type": "stream",
     "text": [
      "file_name:All_spell_target_list.tsv\n"
     ]
    },
    {
     "name": "stdin",
     "output_type": "stream",
     "text": [
      "input card_name: Dimension Cut\n",
      "input ability_id: 1\n"
     ]
    },
    {
     "name": "stdout",
     "output_type": "stream",
     "text": [
      "Dimension Cut:1\n"
     ]
    }
   ],
   "source": [
    "\n",
    "append_new_data_2_ability_list_tsv(\"All_spell_target_list.tsv\",spell_list,spell_has_target,name_to_id=spell_name_to_id)"
   ]
  },
  {
   "cell_type": "code",
   "execution_count": 4,
   "metadata": {},
   "outputs": [
    {
     "name": "stdout",
     "output_type": "stream",
     "text": [
      "file_name:All_end_of_turn_list.tsv\n"
     ]
    },
    {
     "name": "stdin",
     "output_type": "stream",
     "text": [
      "input card_name: Puppet\n",
      "input ability_id: -2\n"
     ]
    },
    {
     "name": "stdout",
     "output_type": "stream",
     "text": [
      "Puppet:-2\n"
     ]
    }
   ],
   "source": [
    "creature_end_of_turn_ability\n",
    "append_new_data_2_ability_list_tsv(\"All_end_of_turn_list.tsv\",creature_list,creature_end_of_turn_ability,name_to_id=creature_name_to_id)\n"
   ]
  },
  {
   "cell_type": "code",
   "execution_count": 5,
   "metadata": {},
   "outputs": [
    {
     "name": "stdout",
     "output_type": "stream",
     "text": [
      "file_name:All_evo_effect_list.tsv\n"
     ]
    },
    {
     "name": "stdin",
     "output_type": "stream",
     "text": [
      "input card_name: Puppeteer\n",
      "input ability_id: 98\n"
     ]
    },
    {
     "name": "stdout",
     "output_type": "stream",
     "text": [
      "Puppeteer:98\n"
     ]
    }
   ],
   "source": [
    "append_new_data_2_ability_list_tsv(\"All_evo_effect_list.tsv\",creature_list,creature_evo_effect,name_to_id=creature_name_to_id)"
   ]
  },
  {
   "cell_type": "code",
   "execution_count": null,
   "metadata": {},
   "outputs": [],
   "source": []
  }
 ],
 "metadata": {
  "kernelspec": {
   "display_name": "Python 3",
   "language": "python",
   "name": "python3"
  },
  "language_info": {
   "codemirror_mode": {
    "name": "ipython",
    "version": 3
   },
   "file_extension": ".py",
   "mimetype": "text/x-python",
   "name": "python",
   "nbconvert_exporter": "python",
   "pygments_lexer": "ipython3",
   "version": "3.6.7"
  }
 },
 "nbformat": 4,
 "nbformat_minor": 4
}
