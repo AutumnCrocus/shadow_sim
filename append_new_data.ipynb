{
 "cells": [
  {
   "cell_type": "code",
   "execution_count": 14,
   "metadata": {},
   "outputs": [
    {
     "name": "stdout",
     "output_type": "stream",
     "text": [
      "new_key_list:[1, 2, 3, 4, 5, 6, 7, 8, 9, 10, 11, 12, 13, 14, 15, 16, 17, 18, 19, 20, 21, 22, 23, 24, 25, 26, 27, 28, 29, 30, 31, 32, 33, 34, 35, 36, 37, 38, 39, 40, 41, 42, 43, 44, 45, 46, 47, 48, 49, 50, 51, 52, 53, 54, 55, 56, 57, 58, 59, 60, 61, 62, 63, 64, 65, 66, 67, 68, 69, 70, 71, 72, 73, 74, 75, 76, 77, 79, 80, 81, 82, 83, 84, 85, 86, 87, 88, 89, 90, 91, 92, 93, 94, 95, 96, 97, 98, 99, 100, 101, 102, 103, 104, 105, 106, 107, 108, 109, 110, 111, 112, 113, 114, 115, 116, 117, 118, 119, 120, 121, 122, 123, 124, 125, 126, 127, 128, 129, 130, 131, 132, 133, 134, 135, 136, 137, 138, 139, 140, -1, -2, -3, -4, -5, -6, -7, -8, -9, -10, -11, -12, -13, -14, -15, -16, -17, -18, -19, -20, -21, -22, -23, -24, -25, -26, -27, -28, -29]\n"
     ]
    }
   ],
   "source": [
    "\n",
    "def sort_card_list(card_list):\n",
    "    new_card_list={}\n",
    "    key_list=list(card_list.keys())\n",
    "    new_key_list=sorted(key_list, key=lambda key: (-key+max(key_list),key)[key>=0])\n",
    "    print(\"new_key_list:{}\".format(new_key_list))\n",
    "    for key in new_key_list:\n",
    "            new_card_list[key]=card_list[key]\n",
    "    \n",
    "    return new_card_list\n",
    "\n",
    "def card_list_2_tsv(card_list,tsv_name):\n",
    "    assert tsv_name!=\"\"\n",
    "    card_category=list(tsv_name.split(\"_\"))[1]\n",
    "    with open(\"Card_List_TSV/\"+tsv_name,\"w\") as f:\n",
    "        writer = csv.writer(f,delimiter='\\t')\n",
    "        for key in list(card_list.keys()):\n",
    "            data=[]\n",
    "            data.append(key)\n",
    "            data.append(card_list[key][-1])\n",
    "            data.append(card_list[key][0])\n",
    "            if card_category==\"Creature\":\n",
    "                data.append(card_list[key][1])\n",
    "                data.append(card_list[key][2])\n",
    "                txt=\"\"\n",
    "                for i,ability in enumerate(card_list[key][3]):\n",
    "                    if i==0:\n",
    "                        txt+=\"{}\".format(ability)\n",
    "                    else:\n",
    "                        txt+=\",{}\".format(ability)\n",
    "                data.append(txt)\n",
    "                if len(card_list[key][4])==3:\n",
    "                    txt=\"{},{}\".format(int(card_list[key][4][1][0]),int(len(card_list[key][4][1])==2 and card_list[key][4][1][1]==True))\n",
    "                    data.append(txt)\n",
    "                data.append(LeaderClass(int(card_list[key][4][0])).name)\n",
    "                data.append(Trait(int(card_list[key][4][-1])).name)\n",
    "            if card_category==\"Spell\":\n",
    "                txt=\"\"\n",
    "                if len(card_list[key][1])==3:\n",
    "                    txt=\"{},{}\".format(int(card_list[key][1][1][0]),int(len(card_list[key][1][1])==2 and card_list[key][1][1][1]==True))\n",
    "                    data.append(txt)\n",
    "                data.append(LeaderClass(int(card_list[key][1][0])).name)\n",
    "                data.append(Trait(int(card_list[key][1][-1])).name)\n",
    "            if card_category==\"Amulet\":\n",
    "                txt=\"\"\n",
    "                for i,ability in enumerate(card_list[key][1]):\n",
    "                    if i==0:\n",
    "                        txt+=\"{}\".format(ability)\n",
    "                    else:\n",
    "                        txt+=\",{}\".format(ability)\n",
    "                data.append(txt)\n",
    "                if len(card_list[key][2])==3:\n",
    "                    txt=\"{},{}\".format(int(card_list[key][2][1][0]),int(len(card_list[key][2][1])==2 and card_list[key][2][1][1]==True))\n",
    "                    data.append(txt)\n",
    "                data.append(LeaderClass(int(card_list[key][2][0])).name)\n",
    "                data.append(Trait(int(card_list[key][2][-1])).name)\n",
    "                if card_list[key][3]==False:\n",
    "                    data.append(\"False\")\n",
    "                else:\n",
    "                    data.append(card_list[key][3])\n",
    "            \n",
    "            writer.writerow(data)\n",
    "                    \n",
    "                        \n",
    "\n",
    "    return \n",
    "\n",
    "def update_card_list_tsv(tsv_name):\n",
    "    card_list=tsv_to_card_list(tsv_name)\n",
    "    new_card_list=sort_card_list(card_list)\n",
    "    card_list_2_tsv(new_card_list,tsv_name)\n",
    "update_card_list_tsv(\"New-All_Creature_Card_List.tsv\")\n",
    "    "
   ]
  },
  {
   "cell_type": "code",
   "execution_count": 15,
   "metadata": {},
   "outputs": [],
   "source": [
    "import csv\n",
    "from card_setting import *\n",
    "from my_enum import *\n",
    "def tsv_to_card_list(tsv_name):\n",
    "    card_list={}\n",
    "    card_category=list(tsv_name.split(\"_\"))[1]\n",
    "    assert card_category in [\"Creature\",\"Spell\",\"Amulet\"]\n",
    "    with open(\"Card_List_TSV/\"+tsv_name) as f:\n",
    "        reader = csv.reader(f,delimiter='\\t',lineterminator='\\n')\n",
    "        for row in reader:\n",
    "            card_id=int(row[0])\n",
    "            #card_cost=int(row[1])\n",
    "            card_cost=int(row[2])\n",
    "            #assert card_category in [\"Creature\",\"Spell\",\"Amulet\"]\n",
    "            if card_id not in card_list:card_list[card_id]=[]\n",
    "            \n",
    "            card_name=row[1]\n",
    "\n",
    "            \n",
    "            \n",
    "            card_class=None\n",
    "            card_list[card_id].append(card_cost)\n",
    "            card_traits=None\n",
    "            has_count=None\n",
    "            if card_category==\"Creature\":\n",
    "                card_class=LeaderClass[row[-2]].value\n",
    "                card_traits=Trait[row[-1]].value\n",
    "                power=int(row[3])\n",
    "                toughness=int(row[4])\n",
    "                ability=[]\n",
    "                if row[5]!=\"\":\n",
    "                    txt=list(row[5].split(\",\"))\n",
    "                    ability=[int(ele) for ele in txt]\n",
    "                card_list[card_id].extend([power,toughness,ability])\n",
    "            elif card_category==\"Amulet\":\n",
    "                #mylogger.info(\"row_contents:{}\".format(row))\n",
    "                card_traits=Trait[row[-2]].value\n",
    "                card_class=LeaderClass[row[-3]].value\n",
    "                has_count=False\n",
    "                if row[-1]!=\"False\":\n",
    "                    has_count=int(row[-1])\n",
    "                ability=[]\n",
    "                if row[3]!=\"\":\n",
    "                    txt=list(row[3].split(\",\"))\n",
    "                    ability=[int(ele) for ele in txt]\n",
    "                card_list[card_id].append(ability)\n",
    "                    \n",
    "            elif card_category==\"Spell\":\n",
    "                card_traits=Trait[row[-1]].value\n",
    "                card_class=LeaderClass[row[-2]].value\n",
    "            else:\n",
    "                assert False,\"{}\".format(card_category)\n",
    "            if card_class==LeaderClass[\"RUNE\"].value:\n",
    "                spell_boost=list(row[-3-int(card_category==\"Amulet\")].split(\",\"))\n",
    "                check_spellboost=[bool(int(spell_boost[i])) for i in range(2)]\n",
    "                card_list[card_id].append([card_class,check_spellboost,card_traits])\n",
    "            else:\n",
    "                card_list[card_id].append([card_class,card_traits])\n",
    "            if has_count!=None:\n",
    "                card_list[card_id].append(has_count)\n",
    "            card_list[card_id].append(card_name)\n",
    "            \n",
    "    return card_list\n",
    "def append_new_data_to_card_list(category=None,file_path=None):\n",
    "    assert category in [\"Creature\",\"Spell\",\"Amulet\"] and file_path!=None,\"category:{} path:{}\".format(category,file_path)\n",
    "    update_card_list_tsv(\"New-All_Creature_Card_List.tsv\")\n",
    "    update_card_list_tsv(\"New-All_Spell_Card_List.tsv\")\n",
    "    update_card_list_tsv(\"New-All_Amulet_Card_List.tsv\")\n",
    "    new_creature_list=tsv_to_card_list(\"New-All_Creature_Card_List.tsv\")\n",
    "    new_spell_list=tsv_to_card_list(\"New-All_Spell_Card_List.tsv\")\n",
    "    new_amulet_list=tsv_to_card_list(\"New-All_Amulet_Card_List.tsv\")\n",
    "    raw_data=[]\n",
    "    if category==\"Creature\":\n",
    "        print(\"recommended card_id:{}\".format(max(new_creature_list)+1))\n",
    "        raw_data=input(\"input card_id card_name cost power toughness ability:\")\n",
    "        raw_data=list(raw_data.split(\";\"))\n",
    "        print(len(raw_data))\n",
    "        print(\"card_id:{}\".format(raw_data[0]))\n",
    "        assert int(raw_data[0]) not in new_creature_list\n",
    "        print(\"card_name:{}\".format(raw_data[1]))\n",
    "        print(\"cost:{}\".format(raw_data[2]))\n",
    "        print(\"power:{}\".format(raw_data[3]))\n",
    "        print(\"toughness:{}\".format(raw_data[4]))\n",
    "        #print(\"ability:{}\".format(raw_data[5]))\n",
    "        ability_list = []\n",
    "        if raw_data[5] != \"\":\n",
    "            for ability in list(raw_data[5].split(\",\")):\n",
    "                ability_num=int(ability)\n",
    "                ability_list.append(KeywordAbility(ability_num).name)\n",
    "        print(\"ability:{}\".format(ability_list))\n",
    "        class_data=input(\"input class trait (spell_boost):\")\n",
    "        class_data=list(class_data.split(\";\"))\n",
    "        print(\"class:{}\".format(class_data[0]))\n",
    "        assert class_data[0] in LeaderClass._member_map_,\"{}\"\\\n",
    "        .format(LeaderClass_member_map_)\n",
    "        print(\"trait:{}\".format(class_data[1]))\n",
    "        assert class_data[1] in Trait._member_map_,\"{}\"\\\n",
    "        .format(Trait._member_map_)\n",
    "        if class_data[0]==\"RUNE\":\n",
    "            print(\"spell_boost:{}\".format(class_data[2]))\n",
    "            spell_boost=list(class_data[2].split(\",\"))\n",
    "            spell_boost=[int(i) for i in spell_boost]\n",
    "            class_data=[class_data[2]]+class_data[0:2]\n",
    "        raw_data=raw_data+class_data\n",
    "            \n",
    "    if category==\"Spell\":\n",
    "        print(\"recommended card_id:{}\".format(max(new_spell_list)+1))\n",
    "        raw_data=input(\"input card_id card_name cost:\")\n",
    "        raw_data=list(raw_data.split(\";\"))\n",
    "        print(len(raw_data))\n",
    "        print(\"card_id:{}\".format(raw_data[0]))\n",
    "        assert int(raw_data[0]) not in new_spell_list\n",
    "        print(\"card_name:{}\".format(raw_data[1]))\n",
    "        print(\"cost:{}\".format(raw_data[2]))\n",
    "        class_data=input(\"input class trait (spell_boost):\")\n",
    "        class_data=list(class_data.split(\";\"))\n",
    "        print(\"class:{}\".format(class_data[0]))\n",
    "        assert class_data[0] in LeaderClass._member_map_,\"{}\"\\\n",
    "        .format(LeaderClass._member_map_)\n",
    "        print(\"trait:{}\".format(class_data[1]))\n",
    "        assert class_data[1] in Trait._member_map_,\"{}\"\\\n",
    "        .format(Trait._member_map_)\n",
    "        if class_data[0]==\"RUNE\":\n",
    "            print(\"spell_boost:{}\".format(class_data[2]))\n",
    "            spell_boost=list(class_data[2].split(\",\"))\n",
    "            spell_boost=[int(i) for i in spell_boost]\n",
    "            class_data=[class_data[2]]+class_data[0:2]\n",
    "        raw_data=raw_data+class_data\n",
    "            \n",
    "    if category==\"Amulet\":\n",
    "        #-1\tEarth Essence\t1\t\t0,0\tRUNE\tEARTH_SIGIL\tFalse\n",
    "        print(\"recommended card_id:{}\".format(max(new_amulet_list)+1))\n",
    "        raw_data=input(\"input card_id card_name cost ability:\")\n",
    "        raw_data=list(raw_data.split(\";\"))\n",
    "        print(len(raw_data))\n",
    "        print(\"card_id:{}\".format(raw_data[0]))\n",
    "        assert int(raw_data[0]) not in new_amulet_list\n",
    "        print(\"card_name:{}\".format(raw_data[1]))\n",
    "        print(\"cost:{}\".format(raw_data[2]))\n",
    "        ability_list = []\n",
    "        if raw_data[3] != \"\":\n",
    "            for ability in list(raw_data[3].split(\",\")):\n",
    "                ability_num=int(ability)\n",
    "                ability_list.append(KeywordAbility(ability_num).name)\n",
    "        print(\"ability:{}\".format(ability_list))\n",
    "        class_data=input(\"input class trait (spell_boost)\")\n",
    "        class_data=list(class_data.split(\";\"))\n",
    "        print(\"class:{}\".format(class_data[0]))\n",
    "        assert class_data[0] in LeaderClass._member_map_,\"{}\"\\\n",
    "        .format(LeaderClass._member_map_)\n",
    "        print(\"trait:{}\".format(class_data[1]))\n",
    "        assert class_data[1] in Trait._member_map_,\"{}\"\\\n",
    "        .format(Trait._member_map_)\n",
    "        if class_data[0]==\"RUNE\":\n",
    "            print(\"spell_boost:{}\".format(class_data[2]))\n",
    "            spell_boost=list(class_data[2].split(\",\"))\n",
    "            spell_boost=[int(i) for i in spell_boost]\n",
    "            class_data=[class_data[2]]+class_data[0:2]\n",
    "        raw_data=raw_data+class_data\n",
    "        count_down_data=input(\"input count_down data:\")\n",
    "        if count_down_data==\"None\":\n",
    "            raw_data.append(\"None\")\n",
    "        else:\n",
    "            raw_data.append(int(count_down_data))\n",
    "            \n",
    "    print(\"raw:{}\".format(raw_data))\n",
    "    while True:\n",
    "        decision=input(\"input this data?(y/n)\")\n",
    "        if decision==\"y\":\n",
    "            with open(file_path,\"a\") as f:\n",
    "                writer = csv.writer(f,delimiter='\\t',lineterminator='\\n')\n",
    "                writer.writerow(raw_data)\n",
    "            print(\"input this data\")\n",
    "            break\n",
    "        elif decision==\"n\":\n",
    "            print(\"input is canceled\")\n",
    "            break\n",
    "        \n",
    "#file_path=\"Card_List_TSV/New-All_Creature_Card_List.tsv\"\n",
    "#append_new_data_to_card_list(category=\"Creature\",file_path=file_path)\n",
    "    "
   ]
  },
  {
   "cell_type": "code",
   "execution_count": 24,
   "metadata": {},
   "outputs": [
    {
     "name": "stdin",
     "output_type": "stream",
     "text": [
      "input card_category: Creature\n"
     ]
    },
    {
     "name": "stdout",
     "output_type": "stream",
     "text": [
      "new_key_list:[1, 2, 3, 4, 5, 6, 7, 8, 9, 10, 11, 12, 13, 14, 15, 16, 17, 18, 19, 20, 21, 22, 23, 24, 25, 26, 27, 28, 29, 30, 31, 32, 33, 34, 35, 36, 37, 38, 39, 40, 41, 42, 43, 44, 45, 46, 47, 48, 49, 50, 51, 52, 53, 54, 55, 56, 57, 58, 59, 60, 61, 62, 63, 64, 65, 66, 67, 68, 69, 70, 71, 72, 73, 74, 75, 76, 77, 79, 80, 81, 82, 83, 84, 85, 86, 87, 88, 89, 90, 91, 92, 93, 94, 95, 96, 97, 98, 99, 100, 101, 102, 103, 104, 105, 106, 107, 108, 109, 110, 111, 112, 113, 114, 115, 116, 117, 118, 119, 120, 121, 122, 123, 124, 125, 126, 127, 128, 129, 130, 131, 132, 133, 134, 135, 136, 137, 138, 139, 140, 141, 142, 143, 144, 145, 146, -1, -2, -3, -4, -5, -6, -7, -8, -9, -10, -11, -12, -13, -14, -15, -16, -17, -18, -19, -20, -21, -22, -23, -24, -25, -26, -27, -28, -29]\n",
      "new_key_list:[1, 2, 3, 4, 5, 6, 7, 8, 9, 10, 11, 12, 13, 14, 15, 16, 17, 18, 19, 20, 21, 22, 23, 24, 25, 26, 27, 28, 29, 30, 31, 32, 33, 34, 35, 36, 37, 38, 39, 40, 41, 42, 43, 44, 45, 46, 47, 48, 49, -1, -2]\n",
      "new_key_list:[1, 2, 3, 4, 5, 6, 7, 8, 9, 10, 11, 12, 13, 14, 15, 16, 17, 18, 19, 20, 21, -1]\n",
      "recommended card_id:147\n"
     ]
    },
    {
     "name": "stdin",
     "output_type": "stream",
     "text": [
      "input card_id card_name cost power toughness ability: 147;Black Iron Soldier;6;5;6;\n"
     ]
    },
    {
     "name": "stdout",
     "output_type": "stream",
     "text": [
      "6\n",
      "card_id:147\n",
      "card_name:Black Iron Soldier\n",
      "cost:6\n",
      "power:5\n",
      "toughness:6\n",
      "ability:[]\n"
     ]
    },
    {
     "name": "stdin",
     "output_type": "stream",
     "text": [
      "input class trait (spell_boost): PORTAL;NONE\n"
     ]
    },
    {
     "name": "stdout",
     "output_type": "stream",
     "text": [
      "class:PORTAL\n",
      "trait:NONE\n",
      "raw:['147', 'Black Iron Soldier', '6', '5', '6', '', 'PORTAL', 'NONE']\n"
     ]
    },
    {
     "name": "stdin",
     "output_type": "stream",
     "text": [
      "input this data?(y/n) y\n"
     ]
    },
    {
     "name": "stdout",
     "output_type": "stream",
     "text": [
      "input this data\n"
     ]
    }
   ],
   "source": [
    "card_category=input(\"input card_category:\")\n",
    "assert card_category in [\"Creature\",\"Spell\",\"Amulet\"]\n",
    "if card_category==\"Creature\":\n",
    "    file_path=\"Card_List_TSV/New-All_Creature_Card_List.tsv\"\n",
    "    append_new_data_to_card_list(category=\"Creature\",file_path=file_path)\n",
    "if card_category==\"Spell\":\n",
    "    file_path=\"Card_List_TSV/New-All_Spell_Card_List.tsv\"\n",
    "    append_new_data_to_card_list(category=\"Spell\",file_path=file_path)\n",
    "if card_category==\"Amulet\":\n",
    "    file_path=\"Card_List_TSV/New-All_Amulet_Card_List.tsv\"\n",
    "    append_new_data_to_card_list(category=\"Amulet\",file_path=file_path)"
   ]
  },
  {
   "cell_type": "code",
   "execution_count": 19,
   "metadata": {},
   "outputs": [
    {
     "name": "stdout",
     "output_type": "stream",
     "text": [
      "max:102\n",
      "{1: [1, 1, 2, [], [0, -1], 'Goblin'], 2: [2, 2, 2, [], [0, -1], 'Fighter'], 3: [3, 2, 3, [], [0, -1], 'Ax Fighter'], 4: [4, 3, 4, [], [0, -1], 'Golyat'], 5: [5, 4, 5, [], [0, -1], 'Feena'], 6: [3, 2, 2, [1], [2, 0], 'Novice Trooper'], 7: [2, 2, 1, [2], [5, -1], 'Spector'], 8: [8, 5, 4, [1], [0, -1], 'Gilgamesh'], 9: [3, 2, 3, [], [0, -1], 'Healing Angel'], 10: [3, 3, 3, [], [2, 0], 'War Dog'], 11: [3, 1, 2, [], [0, -1], 'Purehearted Singer'], 12: [2, 2, 1, [], [4, -1], 'Fire Lizard'], 13: [7, 4, 4, [], [4, -1], 'Dread Dragon'], 14: [3, 1, 4, [3], [0, -1], 'Shield Angel'], 15: [10, 5, 10, [1, 2, 3], [0, -1], 'Zeus'], 16: [10, 13, 13, [], [0, -1], 'Bahamut'], 17: [1, 1, 1, [1], [2, 0], 'Quickblader'], 18: [3, 3, 2, [4], [2, 0], 'Blitz Lancer'], 19: [2, 0, 2, [3], [0, -1], 'Bellringer Angel'], 20: [2, 2, 2, [3], [2, 0], 'Veteran Lancer'], 21: [6, 4, 6, [], [2, 1], 'Sage Commander'], 22: [6, 3, 4, [], [2, 1], 'Sea Queen Otohime'], 23: [5, 2, 6, [3], [2, 1], 'Aurelia, Regal Saber'], 24: [4, 2, 2, [], [2, 0], 'Courageous Knight'], 25: [2, 1, 1, [], [2, 0], 'Oathless Knight'], 26: [4, 3, 4, [], [2, 0], 'Floral Fencer'], 27: [8, 6, 7, [], [0, -1], 'Lucifer'], 28: [2, 2, 2, [], [0, -1], 'Unicorn Dancer Unica'], 29: [4, 3, 4, [], [4, -1], 'Dragon Warrior'], 30: [3, 2, 2, [5], [4, -1], 'Trinity Dragon'], 31: [10, 7, 9, [1], [4, -1], 'Genesis Dragon'], 32: [3, 2, 2, [], [4, -1], 'Aiela, Dragon Knight'], 33: [10, 7, 7, [], [3, [True, True], -1], 'Flame Destroyer'], 34: [4, 1, 1, [], [3, [True, False], -1], 'Rune Blade Summoner'], 35: [9, 4, 4, [], [3, [True, True], -1], 'Chimera'], 36: [9, 3, 5, [1], [3, [True, True], -1], 'Zealot of Truth'], 37: [1, 1, 1, [], [6, -1], 'Ambling Wraith'], 38: [1, 1, 2, [], [6, -1], 'Cursebrand Vampire'], 39: [2, 2, 1, [1], [6, -1], 'Blood Wolf'], 40: [4, 4, 3, [], [6, -1], 'Dark General'], 41: [4, 3, 4, [], [6, -1], 'Wardrobe Raider'], 42: [2, 1, 4, [3], [6, -1], 'Spiderweb Imp'], 43: [9, 5, 5, [], [6, -1], 'Temptress Vampire'], 44: [4, 2, 5, [], [6, -1], 'Righteous Devil'], 45: [2, 1, 1, [], [2, 0], 'Maid Leader'], 46: [6, 4, 3, [7], [2, 0], 'Tsubaki'], 47: [3, 2, 2, [4], [2, 0], 'Young Ogrehunter Momo'], 48: [2, 1, 3, [], [2, 1], 'Princess Vanguard'], 49: [2, 1, 2, [], [5, -1], 'Lurching Corpse'], 50: [2, 1, 2, [], [5, -1], 'Demon Eater'], 51: [1, 1, 1, [], [5, -1], 'SkeltonFighter'], 52: [2, 1, 2, [], [5, -1], 'Andrealphus'], 53: [2, 2, 2, [], [5, -1], 'Belenus'], 54: [2, 1, 3, [8], [5, -1], 'Lady Grey, Deathweaver'], 55: [3, 3, 2, [], [5, -1], 'Rabbit Necromancer'], 56: [8, 5, 5, [], [5, -1], 'Mordecai the Duelist'], 57: [7, 4, 5, [3], [5, -1], 'Underworld Watchman Khawy'], 58: [7, 5, 6, [], [5, -1], 'Demonlord Eachtar'], 59: [1, 1, 2, [], [5, -1], 'Skull Beast'], 60: [2, 1, 3, [], [6, -1], 'Yurius, Levin Duke'], 61: [2, 2, 1, [], [7, -1], 'Rabbit Healer'], 62: [5, 2, 4, [], [7, -1], 'Radiance Angel'], 63: [2, 2, 2, [], [7, -1], 'Holy Bowman Kel'], 64: [4, 4, 3, [], [7, -1], 'Kel, Holy Marksman'], 65: [4, 3, 4, [3], [7, -1], 'Elana, Purest Prayer'], 66: [2, 2, 2, [], [3, [False, False], -1], 'Dwarf Alchemist'], 67: [2, 2, 2, [], [3, [False, False], -1], 'Magic Illusionist'], 68: [3, 3, 2, [], [3, [False, False], -1], 'Mage of Nightfall'], 69: [4, 4, 3, [], [3, [False, False], -1], 'Halo Golem'], 70: [6, 4, 4, [], [3, [False, False], -1], 'Master Mage Levi'], 71: [3, 3, 2, [], [3, [False, False], -1], 'Magisa, Ruinfist Witch'], 72: [1, 1, 1, [], [1, -1], 'Water Fairy'], 73: [1, 1, 1, [], [1, -1], 'Elf Child May'], 74: [2, 1, 1, [], [1, -1], 'Fairy Whisperer'], 75: [2, 1, 1, [1], [1, -1], 'Rhinoceroach'], 76: [3, 2, 3, [3], [1, -1], 'Ancient Elf'], 77: [4, 3, 4, [], [1, -1], 'Elven Princess Mage'], 79: [2, 2, 2, [], [2, 0], 'Fervid Soldier'], 80: [2, 2, 1, [], [1, -1], 'Elf Metallurgist'], 81: [5, 1, 1, [], [1, -1], 'Crystalia Tia'], 82: [3, 2, 2, [2], [4, -1], 'Dragoon Scyther'], 83: [2, 2, 2, [], [4, -1], 'Wind Reader Zell'], 84: [5, 4, 5, [], [4, -1], 'Sibyl of the Waterwyrm'], 85: [8, 8, 4, [], [4, -1], 'Ouroboros'], 86: [4, 2, 5, [3], [4, -1], 'Rahab'], 87: [3, 2, 3, [3], [0, -1], 'Grimnir, War Cyclone'], 88: [7, 4, 4, [], [0, -1], 'Sahaquiel'], 89: [9, 8, 8, [], [0, -1], 'Israfil'], 90: [5, 5, 5, [], [3, [False, False], -1], 'Orichalcum Golem'], 91: [1, 1, 2, [], [2, 0], 'Vanguard'], 92: [1, 1, 2, [], [2, 1], 'Perseus'], 93: [2, 2, 1, [7], [2, 0], 'Kunoichi Trainee'], 94: [2, 2, 1, [], [2, 0], 'Centaur Vanguard'], 95: [2, 1, 3, [], [2, 0], 'Bladed Hedgehog'], 96: [2, 2, 2, [], [2, 0], 'Maisy, Red Riding Hood'], 97: [3, 2, 2, [1], [2, 1], 'Princess Juliet'], 98: [5, 3, 5, [1], [2, 1], 'Albert, Levin Saber'], 99: [5, 3, 2, [7], [2, 0], 'Kunoichi Master'], 100: [4, 1, 3, [7], [0, -1], 'Ephemera, Angelic Slacker'], 101: [6, 5, 1, [1], [4, -1], 'Dark Dragoon Forte'], 102: [1, 1, 2, [], [4, -1], 'Ivory Dragon'], -1: [3, 2, 3, [3], [2, 0], 'Pirate'], -2: [3, 3, 2, [1], [2, 0], 'Viking'], -3: [1, 1, 2, [], [2, 0], \"Otohime's Bodyguard\"], -4: [1, 1, 1, [], [2, 0], 'Knight'], -5: [2, 2, 2, [], [2, 0], 'Steelclad Knight'], -6: [6, 5, 5, [1], [4, -1], 'Windblast Dragon'], -7: [3, 2, 1, [1], [7, -1], 'Holy Falcon'], -8: [4, 4, 4, [], [7, -1], 'Holyflame Tiger'], -9: [5, 3, 4, [1], [7, -1], 'Regal Falcon'], -10: [6, 5, 4, [3, 6], [7, -1], 'Barong'], -11: [2, 2, 2, [], [3, [False, False], -1], 'Clay Golem'], -12: [1, 1, 1, [1], [5, -1], 'Ghost'], -13: [2, 2, 2, [], [5, -1], 'Zombie'], -14: [6, 6, 6, [], [7, -1], 'Holywing Dragon'], -15: [1, 0, 2, [3], [3, [False, False], -1], 'Scrap Golem'], -16: [1, 1, 1, [], [1, -1], 'Fairy'], -17: [4, 4, 4, [], [1, -1], 'Crystalia Eve'], -18: [3, 1, 3, [1], [0, -1], 'Crab Soldier'], -19: [3, 1, 3, [3], [0, -1], 'Heart Guardian'], -20: [3, 1, 3, [2], [0, -1], 'Spade Raider']}\n"
     ]
    }
   ],
   "source": [
    "    new_creature_list=tsv_to_card_list(\"New-All_Creature_Card_List.tsv\")\n",
    "    print(\"max:{}\\n{}\".format(max(new_creature_list),new_creature_list))\n",
    "    #new_spell_list=tsv_to_card_list(\"New-All_Spell_Card_List.tsv\")\n",
    "    #new_amulet_list=tsv_to_card_list(\"New-All_Amulet_Card_List.tsv\")"
   ]
  },
  {
   "cell_type": "code",
   "execution_count": 34,
   "metadata": {},
   "outputs": [
    {
     "name": "stdout",
     "output_type": "stream",
     "text": [
      "new_key_list:[1, 2, 3, 4, 5, 6, 7, 8, 9, 10, 11, 12, 13, 14, 15, 16, 17, 18, 19, 20, 21, 22, 23, 24, 25, 26, 27, 28, 29, 30, 31, 32, 33, 34, 35, 36, 37, 38, 39, 40, 41, 42, 43, 44, 45, 46, 47, 48, 49, 50, 51, 52, 53, 54, 55, 56, 57, 58, 59, 60, 61, 62, 63, 64, 65, 66, 67, 68, 69, 70, 71, 72, 73, 74, 75, 76, 77, 79, 80, 81, 82, 83, 84, 85, 86, 87, 88, 89, 90, 91, 92, 93, 94, 95, 96, 97, 98, 99, 100, 101, 102, 103, 104, 105, 106, 107, 108, 109, 110, 111, 112, 113, 114, 115, 116, 117, 118, 119, 120, 121, 122, 123, 124, 125, 126, 127, -1, -2, -3, -4, -5, -6, -7, -8, -9, -10, -11, -12, -13, -14, -15, -16, -17, -18, -19, -20, -21, -22, -23]\n",
      "new_key_list:[1, 2, 3, 4, 5, 6, 7, 8, 9, 10, 11, 12, 13, 14, 15, 16, 17, 18, 19, 20, 21, 22, 23, 24, 25, 26, 27, 28, 29, 30, 31, 32, 33, 34, 35, 36, 37, 38, 39, 40, 41, 42, 43, -1, -2]\n",
      "new_key_list:[1, 2, 3, 4, 5, 6, 7, 8, 9, 10, 11, 12, 13, 14, 15, 16, 17, 18, -1]\n"
     ]
    }
   ],
   "source": [
    "update_card_list_tsv(\"New-All_Creature_Card_List.tsv\")\n",
    "update_card_list_tsv(\"New-All_Spell_Card_List.tsv\")\n",
    "update_card_list_tsv(\"New-All_Amulet_Card_List.tsv\")"
   ]
  },
  {
   "cell_type": "code",
   "execution_count": 9,
   "metadata": {},
   "outputs": [],
   "source": [
    "from card_setting import *\n",
    "with open(\"test_data.tsv\",\"a\") as f:\n",
    "    writer = csv.writer(f,delimiter='\\t',lineterminator='\\n')\n",
    "    data=[1,\"Goblin\",1,1,2,\"\",\"NEUTRAL\",\"NONE\",\"None\"]\n",
    "    writer.writerow(data)\n",
    "    "
   ]
  },
  {
   "cell_type": "code",
   "execution_count": 27,
   "metadata": {},
   "outputs": [],
   "source": [
    "card_list_2_tsv(spell_list,\"New-All_Spell_Card_List.tsv\")"
   ]
  },
  {
   "cell_type": "code",
   "execution_count": 32,
   "metadata": {},
   "outputs": [],
   "source": [
    "card_list_2_tsv(amulet_list,\"New-All_Amulet_Card_List.tsv\")"
   ]
  },
  {
   "cell_type": "code",
   "execution_count": null,
   "metadata": {},
   "outputs": [],
   "source": [
    "key_list=list(creature_list.keys())\n",
    "sorted(key_list, key=lambda key: (-key+max(key_list),key)[key>=0])"
   ]
  },
  {
   "cell_type": "code",
   "execution_count": 42,
   "metadata": {},
   "outputs": [
    {
     "data": {
      "text/plain": [
       "1"
      ]
     },
     "execution_count": 42,
     "metadata": {},
     "output_type": "execute_result"
    }
   ],
   "source": [
    "(1,0)[1<0]"
   ]
  },
  {
   "cell_type": "code",
   "execution_count": 77,
   "metadata": {},
   "outputs": [
    {
     "data": {
      "text/plain": [
       "OrderedDict([('STORM', <__KeywordAbility.STORM: 1>),\n",
       "             ('BANE', <__KeywordAbility.BANE: 2>),\n",
       "             ('WARD', <__KeywordAbility.WARD: 3>),\n",
       "             ('RUSH', <__KeywordAbility.RUSH: 4>),\n",
       "             ('CANT_BE_ATTACKED', <__KeywordAbility.CANT_BE_ATTACKED: 5>),\n",
       "             ('CANT_BE_TARGETED', <__KeywordAbility.CANT_BE_TARGETED: 6>),\n",
       "             ('AMBUSH', <__KeywordAbility.AMBUSH: 7>),\n",
       "             ('DRAIN', <__KeywordAbility.DRAIN: 8>),\n",
       "             ('CANT_BE_DESTROYED_BY_EFFECTS',\n",
       "              <__KeywordAbility.CANT_BE_DESTROYED_BY_EFFECTS: 9>),\n",
       "             ('REDUCE_DAMAGE_TO_ZERO',\n",
       "              <__KeywordAbility.REDUCE_DAMAGE_TO_ZERO: 10>),\n",
       "             ('REDUCE_DAMAGE_TO_ZERO_BY_EFFECTS',\n",
       "              <__KeywordAbility.REDUCE_DAMAGE_TO_ZERO_BY_EFFECTS: 11>),\n",
       "             ('CANT_ATTACK_TO_FOLLOWER',\n",
       "              <__KeywordAbility.CANT_ATTACK_TO_FOLLOWER: 12>),\n",
       "             ('CANT_ATTACK_TO_PLAYER',\n",
       "              <__KeywordAbility.CANT_ATTACK_TO_PLAYER: 13>),\n",
       "             ('BANISH_WHEN_LEAVES',\n",
       "              <__KeywordAbility.BANISH_WHEN_LEAVES: 14>)])"
      ]
     },
     "execution_count": 77,
     "metadata": {},
     "output_type": "execute_result"
    }
   ],
   "source": [
    "#help(KeywordAbility)\n",
    "KeywordAbility._member_map_"
   ]
  },
  {
   "cell_type": "code",
   "execution_count": null,
   "metadata": {},
   "outputs": [],
   "source": []
  }
 ],
 "metadata": {
  "kernelspec": {
   "display_name": "Python 3",
   "language": "python",
   "name": "python3"
  },
  "language_info": {
   "codemirror_mode": {
    "name": "ipython",
    "version": 3
   },
   "file_extension": ".py",
   "mimetype": "text/x-python",
   "name": "python",
   "nbconvert_exporter": "python",
   "pygments_lexer": "ipython3",
   "version": "3.6.7"
  }
 },
 "nbformat": 4,
 "nbformat_minor": 4
}
